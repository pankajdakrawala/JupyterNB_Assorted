{
 "cells": [
  {
   "cell_type": "code",
   "execution_count": 41,
   "metadata": {
    "collapsed": true
   },
   "outputs": [],
   "source": [
    "import os, sys, subprocess\n",
    "import numpy as np\n",
    "import matplotlib as mpl\n",
    "import matplotlib.pyplot as plt\n",
    "import pandas as pd"
   ]
  },
  {
   "cell_type": "code",
   "execution_count": 42,
   "metadata": {},
   "outputs": [
    {
     "name": "stdout",
     "output_type": "stream",
     "text": [
      "7\n"
     ]
    }
   ],
   "source": [
    "D = 27.0\n",
    "dsLocations = range(8)\n",
    "print dsLoc\n",
    "T01_HH = [773846.5, 3722593.7, 1050.1]\n",
    "with open('wakeLine.txt', 'w') as fh:\n",
    "    fh.write('Wake lines defined here:\\n')"
   ]
  },
  {
   "cell_type": "code",
   "execution_count": 43,
   "metadata": {
    "collapsed": true
   },
   "outputs": [],
   "source": [
    "for dsLoc in dsLocations:\n",
    "    wakeCenter  =  [T01_HH[0],         T01_HH[1] + (dsLoc+1)*D, T01_HH[2]]\n",
    "    horLineStart = [T01_HH[0] - 2.5*D, T01_HH[1] + (dsLoc+1)*D, T01_HH[2]]\n",
    "    horLineEnd =   [T01_HH[0] + 2.5*D, T01_HH[1] + (dsLoc+1)*D, T01_HH[2]]\n",
    "    verLineStart = [T01_HH[0],         T01_HH[1] + (dsLoc+1)*D, 1018.0]\n",
    "    verLineEnd =   [T01_HH[0],         T01_HH[1] + (dsLoc+1)*D, 1218.0]\n",
    "    #print 'wakeCenter: ', wakeCenter\n",
    "    \n",
    "    with open('wakeLine.txt', 'a') as fh:\n",
    "        fh.write('    horLine_%dD\\n'%(dsLoc+1))\n",
    "        fh.write('    {\\n')\n",
    "        fh.write('        type    uniform;\\n')\n",
    "        fh.write('        axis    distance;\\n')\n",
    "        fh.write('        start   (%.1f %.1f %.1f);\\n' %(horLineStart[0], horLineStart[1],horLineStart[2]))\n",
    "        fh.write('        end     (%.1f %.1f %.1f);\\n' %(horLineEnd[0], horLineEnd[1],horLineEnd[2]))\n",
    "        fh.write('        nPoints 150;\\n')\n",
    "        fh.write('    }\\n')\n",
    "        \n",
    "        fh.write('    verLine_%dD\\n'%(dsLoc+1))\n",
    "        fh.write('    {\\n')\n",
    "        fh.write('        type    uniform;\\n')\n",
    "        fh.write('        axis    distance;\\n')\n",
    "        fh.write('        start   (%.1f %.1f %.1f);\\n' %(verLineStart[0], verLineStart[1],verLineStart[2]))\n",
    "        fh.write('        end     (%.1f %.1f %.1f);\\n' %(verLineEnd[0], verLineEnd[1],verLineEnd[2]))\n",
    "        fh.write('        nPoints 150;\\n')\n",
    "        fh.write('    }\\n')"
   ]
  },
  {
   "cell_type": "code",
   "execution_count": null,
   "metadata": {
    "collapsed": true
   },
   "outputs": [],
   "source": []
  }
 ],
 "metadata": {
  "kernelspec": {
   "display_name": "Python 3",
   "language": "python",
   "name": "python3"
  },
  "language_info": {
   "codemirror_mode": {
    "name": "ipython",
    "version": 3
   },
   "file_extension": ".py",
   "mimetype": "text/x-python",
   "name": "python",
   "nbconvert_exporter": "python",
   "pygments_lexer": "ipython3",
   "version": "3.6.3"
  }
 },
 "nbformat": 4,
 "nbformat_minor": 2
}

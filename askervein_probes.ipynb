{
 "cells": [
  {
   "cell_type": "code",
   "execution_count": 1,
   "metadata": {
    "collapsed": true
   },
   "outputs": [],
   "source": [
    "import os, sys, subprocess\n",
    "import numpy as np\n",
    "import matplotlib as mpl\n",
    "import matplotlib.pyplot as plt\n",
    "import pandas as pd"
   ]
  },
  {
   "cell_type": "code",
   "execution_count": 2,
   "metadata": {
    "collapsed": true
   },
   "outputs": [],
   "source": [
    "\"\"\" Function to convert sector to polar angle \"\"\"\n",
    "def sector2polar(sector):\n",
    "    polarAngle = 270.0 - sector # Returns in the range [-90, +270] degrees rather than [-180, +180]\n",
    "    if polarAngle >=180.0 and polarAngle <= 270.0:\n",
    "        polarAngle = polarAngle - 360.0\n",
    "    return polarAngle\n",
    "\n",
    "\"\"\" Compute axial velocity \"\"\"\n",
    "def axialVel(U, V, sector):\n",
    "    polarAngle = sector2polar(sector)\n",
    "    fDir = np.deg2rad(polarAngle)\n",
    "    #print 'polar angle: ', polarAngle, 'deg = ', fDir, ' radians'\n",
    "    Uax = U*np.cos(fDir) + V*np.sin(fDir)\n",
    "    #print U, V, Uax\n",
    "    return Uax"
   ]
  },
  {
   "cell_type": "code",
   "execution_count": 3,
   "metadata": {
    "collapsed": true
   },
   "outputs": [],
   "source": [
    "\"\"\" Function to create time series plot of a variable  \"\"\"\n",
    "def plotTimeSeriesSingle(figLoc, fileName, labelText, time, var, lineStyle='-', markersize = 2, lineWidth=1):\n",
    "    plt.figure(1)\n",
    "    plt.plot(time, var, lineStyle, linewidth = lineWidth, markersize = markersize)\n",
    "    plt.xlabel('Time (s)')\n",
    "    plt.ylabel(labelText)\n",
    "    if not os.path.exists(figLoc):\n",
    "        os.makedirs(figLoc)\n",
    "    figName =  os.path.join(figLoc, fileName)\n",
    "    plt.savefig(figName)\n",
    "    plt.close()"
   ]
  },
  {
   "cell_type": "code",
   "execution_count": 4,
   "metadata": {
    "collapsed": true
   },
   "outputs": [],
   "source": [
    "\"\"\"\" Function to gather probe names from the probe location \"\"\"\n",
    "def gatherProbeNames(probeLoc):\n",
    "    probeNames = [pname for pname in os.listdir(probeLoc) if os.path.isdir(os.path.join(probeLoc, pname))]\n",
    "    if 'surfaces' in probeNames:\n",
    "        probeNames.remove('surfaces')\n",
    "    if 'lines' in probeNames:\n",
    "        probeNames.remove('lines')\n",
    "    probeNames.sort()\n",
    "    return probeNames"
   ]
  },
  {
   "cell_type": "code",
   "execution_count": 5,
   "metadata": {
    "collapsed": true
   },
   "outputs": [],
   "source": [
    "\"\"\" Define the function to read probe data \"\"\"\n",
    "def processRotorProbeData(skipTime, Timet, Ut, Vt, Wt, kt):\n",
    "    U    = []\n",
    "    V    = []\n",
    "    W    = []\n",
    "\n",
    "    for i in range(len(Timet)):\n",
    "        U.append(float(Ut[i].split('(')[1]))\n",
    "        V.append(float(Vt[i]))\n",
    "        W.append(float(Wt[i].split(')')[0]))\n",
    "\n",
    "    Time = np.array(Timet)\n",
    "    tStart = float(Timet[0])\n",
    "    indTstat = np.argmax((Time - tStart) > float(skipTime))\n",
    "    indTEnd =  len(Timet)\n",
    "\n",
    "    return Time[indTstat:indTEnd], np.array(U[indTstat:indTEnd]), np.array(V[indTstat:indTEnd]), np.array(W[indTstat:indTEnd]), np.array(kt[indTstat:indTEnd])"
   ]
  },
  {
   "cell_type": "code",
   "execution_count": 6,
   "metadata": {
    "collapsed": true
   },
   "outputs": [],
   "source": [
    "\"\"\" Function to load probe data for a probe \"\"\"\n",
    "def loadProbeData(probeLoc, probeName, startTime, skipTime):\n",
    "    probeFileU = os.path.join( probeLoc, probeName, str(startTime), 'U')\n",
    "    probeFilek = os.path.join( probeLoc, probeName, str(startTime), 'k')\n",
    "\n",
    "    probes  = pd.read_csv(probeFileU,sep='\\s+',skiprows=3,\n",
    "            names=['Time','uh','vh','wh'])\n",
    "    probesk = pd.read_csv(probeFilek,sep='\\s+',skiprows=3,\n",
    "            names=['Time','kh'])\n",
    "\n",
    "    # Read the probe data\n",
    "    timeHub, UHub, VHub, WHub, kHub = processRotorProbeData (\n",
    "            skipTime, probes['Time'], probes['uh'], probes['vh'], probes['wh'], probesk['kh'])\n",
    "    \n",
    "    return timeHub, UHub, VHub, WHub, kHub"
   ]
  },
  {
   "cell_type": "code",
   "execution_count": null,
   "metadata": {
    "collapsed": true
   },
   "outputs": [],
   "source": [
    "# Main code\n",
    "simList = ['kOmega_des_asl_coarseMesh', \\\n",
    "           'kOmega_iddes_asl_coarseMesh', \\\n",
    "           'kOmega_des_asl_betaStar0.03', \\\n",
    "           'kOmega_iddes_asl_betaStar0.03']\n",
    "sector = 210.0\n",
    "startTime = 0\n",
    "skipTime = 0.0"
   ]
  },
  {
   "cell_type": "code",
   "execution_count": null,
   "metadata": {},
   "outputs": [
    {
     "name": "stdout",
     "output_type": "stream",
     "text": [
      "case_name:  ask_kOmega_des_asl_coarseMesh\n",
      "case_name:  ask_kOmega_iddes_asl_coarseMesh\n",
      "case_name:  ask_kOmega_des_asl_betaStar0.03\n"
     ]
    }
   ],
   "source": [
    "for sim in simList:\n",
    "    case_name = 'ask_' + sim\n",
    "    print ('case_name: ', case_name)\n",
    "    probeLoc = os.path.join(case_name, 'probes')\n",
    "    probeNames = gatherProbeNames(probeLoc)\n",
    "    #print 'probeNames:\\n', probeNames\n",
    "    \n",
    "    for probe in probeNames:\n",
    "        time, U, V, W, k = loadProbeData(probeLoc, probe, startTime, skipTime)\n",
    "        Uax = axialVel (U, V, sector)\n",
    "        figLoc = os.path.join('plots','probes', sim)\n",
    "        plotTimeSeriesSingle(figLoc, probe+'_U.png', 'X-component of velocity, U (m/s)', time, U)\n",
    "        plotTimeSeriesSingle(figLoc, probe+'_V.png', 'Y-component of velocity, V (m/s)', time, V)\n",
    "        plotTimeSeriesSingle(figLoc, probe+'_W.png', 'Z-component of velocity, W (m/s)', time, W)\n",
    "        plotTimeSeriesSingle(figLoc, probe+'_Uax.png', 'Axial wind velocity, Uax (m/s)', time, Uax)\n",
    "        plotTimeSeriesSingle(figLoc, probe+'_TKE.png', 'Turbulent kinetic energy (m^2/s^2)', time, k)\n",
    "        #plotTimeSeriesSingle(figLoc, fileName, labelText, time, var, lineStyle='-', markersize = 2, lineWidth=1):\n"
   ]
  },
  {
   "cell_type": "code",
   "execution_count": null,
   "metadata": {
    "collapsed": true
   },
   "outputs": [],
   "source": []
  }
 ],
 "metadata": {
  "kernelspec": {
   "display_name": "Python 3",
   "language": "python",
   "name": "python3"
  },
  "language_info": {
   "codemirror_mode": {
    "name": "ipython",
    "version": 3
   },
   "file_extension": ".py",
   "mimetype": "text/x-python",
   "name": "python",
   "nbconvert_exporter": "python",
   "pygments_lexer": "ipython3",
   "version": "3.6.3"
  }
 },
 "nbformat": 4,
 "nbformat_minor": 2
}

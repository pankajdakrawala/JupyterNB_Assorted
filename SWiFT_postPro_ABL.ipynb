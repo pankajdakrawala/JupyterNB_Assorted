{
 "cells": [
  {
   "cell_type": "code",
   "execution_count": 1,
   "metadata": {
    "collapsed": true
   },
   "outputs": [],
   "source": [
    "import os, sys, subprocess\n",
    "import numpy as np\n",
    "import matplotlib as mpl\n",
    "import matplotlib.pyplot as plt\n",
    "import pandas as pd"
   ]
  },
  {
   "cell_type": "code",
   "execution_count": 2,
   "metadata": {
    "collapsed": true
   },
   "outputs": [],
   "source": [
    "def readU(test_path, fileName):\n",
    "    lineU = pd.read_csv(os.path.join(test_path, fileName), sep='\\s+', skiprows=0,\n",
    "                                 names=['z', 'U', 'V', 'W'])\n",
    "    return lineU\n",
    "\n",
    "def readkpEps(test_path, fileName):\n",
    "    linekpEps = pd.read_csv(os.path.join(test_path, fileName), sep='\\s+', skiprows=0,\n",
    "                                 names=['z', 'k', 'p', 'eps'])\n",
    "    return linekpEps"
   ]
  },
  {
   "cell_type": "code",
   "execution_count": 3,
   "metadata": {
    "collapsed": true
   },
   "outputs": [],
   "source": [
    "def plotSimData(probes, caseInd, xVar, yVar):\n",
    "    for caseI in caseInd:\n",
    "         #print '... ... yVar: ',yVar, 'case name: ', caseName[caseI], ', probeInd: ', probeInd\n",
    "        data = probes[caseI]\n",
    "        plt.plot(data[xVar], data[yVar], plotStyle[caseI], label=labelText[caseI])  "
   ]
  },
  {
   "cell_type": "code",
   "execution_count": 4,
   "metadata": {
    "collapsed": true
   },
   "outputs": [],
   "source": [
    "def plotLabelEtc(xlabelText,ylabelText,plotSubDir,figName,yLim):\n",
    "    plt.xlabel(xlabelText)\n",
    "    plt.ylabel(ylabelText)\n",
    "    plt.ylim(yLim)\n",
    "    #plt.legend(loc='best')\n",
    "    plt.legend(loc='upper center', bbox_to_anchor=(0.5, 1.18),\n",
    "               ncol=3, fancybox=True, shadow=True)\n",
    "    plotDir = os.path.join('plots', plotSubDir)\n",
    "    if not os.path.exists(plotDir):\n",
    "        os.makedirs(plotDir)\n",
    "    plt.savefig(os.path.join(plotDir,figName))\n",
    "    plt.close()"
   ]
  },
  {
   "cell_type": "code",
   "execution_count": 5,
   "metadata": {
    "collapsed": true
   },
   "outputs": [],
   "source": [
    "def plotVar(probes, caseInd, xVar, yVar, xlabelText, ylabelText,plotSubDir,figName, yLim = [0,3000]):\n",
    "    plotSimData(probes,caseInd,xVar,yVar)\n",
    "    plotLabelEtc(xlabelText,ylabelText,plotSubDir,figName, yLim)"
   ]
  },
  {
   "cell_type": "code",
   "execution_count": 6,
   "metadata": {
    "collapsed": true
   },
   "outputs": [],
   "source": [
    "simList = ['neutral_abl', \\\n",
    "           'unstable_abl', \\\n",
    "           'stable_abl']\n",
    "\n",
    "labelText = ['neutral', \\\n",
    "             'unstable', \\\n",
    "             'stable']\n",
    "\n",
    "#plotStyle = ['r-', 'b--', 'g-', 'm-.', 'k-', 'y--', 'r-.', 'k:']\n",
    "plotStyle = ['r-', 'b-', 'g-', 'm-.^', 'k--*', 'y--^', 'k-.*', 'k:']"
   ]
  },
  {
   "cell_type": "code",
   "execution_count": 7,
   "metadata": {
    "collapsed": true
   },
   "outputs": [],
   "source": [
    "# Map plot subdirectories to case indices\n",
    "plotSubDir_Indices = {'NREL': [0, 1, 2], \\\n",
    "                      'all' : [0, 1, 2]}\n",
    "# Map line definition to probe indices\n",
    "lineDef = ['M01', 'T01']"
   ]
  },
  {
   "cell_type": "code",
   "execution_count": 8,
   "metadata": {},
   "outputs": [
    {
     "name": "stdout",
     "output_type": "stream",
     "text": [
      "Case count:  0\n",
      "case_name:  neutral_abl\n",
      "Case count:  1\n",
      "case_name:  unstable_abl\n",
      "Case count:  2\n",
      "case_name:  stable_abl\n"
     ]
    }
   ],
   "source": [
    "caseCount = 0\n",
    "#test_path_arr = {}\n",
    "probesU_T01 = {}\n",
    "probesk_T01 = {}\n",
    "probesU_M01 = {}\n",
    "probesk_M01 = {}\n",
    "caseName = {}\n",
    "for sim in simList:\n",
    "    print 'Case count: ', caseCount\n",
    "    case_name = sim\n",
    "    print 'case_name: ', case_name\n",
    "    caseName[caseCount] = case_name\n",
    "    test_path = os.path.join('post_pro',case_name, 'lines')\n",
    "  \n",
    "    probesU_T01[caseCount] = readU(test_path, 'T01_U.xy')\n",
    "    probesk_T01[caseCount] = readkpEps(test_path, 'T01_k_p_epsilon.xy')\n",
    "    probesU_M01[caseCount] = readU(test_path, 'M01_U.xy')\n",
    "    probesk_M01[caseCount] = readkpEps(test_path, 'M01_k_p_epsilon.xy')\n",
    "   \n",
    "    caseCount += 1\n",
    "    \"\"\"\n",
    "    print 'Test results, U (T01):\\n',probesU_T01\n",
    "    print 'Test results, k (T01):\\n',probesk_T01\n",
    "    print 'Test results, U (M01):\\n',probesU_M01\n",
    "    print 'Test results, k (M01):\\n',probesk_M01\n",
    "    \"\"\""
   ]
  },
  {
   "cell_type": "code",
   "execution_count": 10,
   "metadata": {},
   "outputs": [
    {
     "name": "stdout",
     "output_type": "stream",
     "text": [
      "plotSubDir: all\n",
      "plotSubDir: NREL\n"
     ]
    }
   ],
   "source": [
    "for plotSubDir in plotSubDir_Indices.keys():\n",
    "    caseInd = plotSubDir_Indices[plotSubDir]\n",
    "    print 'plotSubDir:', plotSubDir\n",
    "    plotVar(probesU_T01,caseInd,'V','z','Uy (m/s)','z(m)',plotSubDir, 'T01_V.png')\n",
    "    plotVar(probesU_M01,caseInd,'V','z','Uy (m/s)','z(m)',plotSubDir, 'M01_V.png')\n",
    "    plotVar(probesk_T01,caseInd,'k','z','TKE (m^2/s^2)','z(m)',plotSubDir, 'T01_TKE.png')\n",
    "    plotVar(probesk_M01,caseInd,'k','z','TKE (m^2/s^2)','z(m)',plotSubDir, 'M01_TKE.png')\n",
    "    plotVar(probesU_T01,caseInd,'V','z','Uy (m/s)','z(m)',plotSubDir, 'T01_V_zoom.png', [0, 200])\n",
    "    plotVar(probesU_M01,caseInd,'V','z','Uy (m/s)','z(m)',plotSubDir, 'M01_V_zoom.png', [0, 200])\n",
    "    plotVar(probesk_T01,caseInd,'k','z','TKE (m^2/s^2)','z(m)',plotSubDir, 'T01_TKE_zoom.png', [0, 200])\n",
    "    plotVar(probesk_M01,caseInd,'k','z','TKE (m^2/s^2)','z(m)',plotSubDir, 'M01_TKE_zoom.png', [0, 200])"
   ]
  },
  {
   "cell_type": "code",
   "execution_count": null,
   "metadata": {
    "collapsed": true
   },
   "outputs": [],
   "source": []
  }
 ],
 "metadata": {
  "kernelspec": {
   "display_name": "Python 3",
   "language": "python",
   "name": "python3"
  },
  "language_info": {
   "codemirror_mode": {
    "name": "ipython",
    "version": 3
   },
   "file_extension": ".py",
   "mimetype": "text/x-python",
   "name": "python",
   "nbconvert_exporter": "python",
   "pygments_lexer": "ipython3",
   "version": "3.6.3"
  }
 },
 "nbformat": 4,
 "nbformat_minor": 2
}

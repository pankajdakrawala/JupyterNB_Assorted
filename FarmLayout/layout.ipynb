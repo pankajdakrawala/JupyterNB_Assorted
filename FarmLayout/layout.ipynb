{
 "cells": [
  {
   "cell_type": "code",
   "execution_count": 1,
   "metadata": {
    "collapsed": true
   },
   "outputs": [],
   "source": [
    "import os\n",
    "import scipy.stats as s\n",
    "import numpy as np\n",
    "import pandas as pd\n",
    "import matplotlib.pyplot as plt\n",
    "from gw.core import utm"
   ]
  },
  {
   "cell_type": "code",
   "execution_count": 2,
   "metadata": {},
   "outputs": [],
   "source": [
    "def rTheta (x, y, x0=0, y0=0):\n",
    "    r = np.sqrt((x-x0)**2 + (y-y0)**2)\n",
    "    theta = np.arctan2(-(y-y0), -(x-x0)) # from the other turbs to the ref turb\n",
    "    return r, np.rad2deg(theta)\n",
    "\n",
    "def rotate(x, y, theta, x0=0, y0=0):\n",
    "    ctheta = np.cos(theta)\n",
    "    stheta = np.sin(theta)\n",
    "    xNew = (x-x0)*ctheta - (y-y0)*stheta\n",
    "    yNew = (x-x0)*stheta + (y-y0)*ctheta\n",
    "    return xNew, yNew\n",
    "\n",
    "def polar2sector(polarAngle):\n",
    "    for i in range(len(polarAngle)):\n",
    "        if polarAngle[i] <= -90 and polarAngle[i] >= -180.0:\n",
    "            polarAngle[i] = polarAngle[i] + 360.0\n",
    "     \n",
    "    sector = 270.0 - polarAngle\n",
    "    return sector"
   ]
  },
  {
   "cell_type": "code",
   "execution_count": 3,
   "metadata": {},
   "outputs": [
    {
     "name": "stdout",
     "output_type": "stream",
     "text": [
      "  Name        Long        Lat\n",
      "0  A47  120.096438  34.361754\n",
      "1  A48  120.097015  34.358799\n",
      "2  A49  120.095821  34.355970\n",
      "3  A50  120.094077  34.353105\n"
     ]
    }
   ],
   "source": [
    "D = 110.0\n",
    "dat = pd.read_excel('layout.xlsx',sheet_name = 'layout',\n",
    "                        skiprows=1 , sep='\\s+')\n",
    "print (dat)"
   ]
  },
  {
   "cell_type": "code",
   "execution_count": 4,
   "metadata": {},
   "outputs": [
    {
     "name": "stdout",
     "output_type": "stream",
     "text": [
      "  Name        Long        Lat              x             y zone\n",
      "0  A47  120.096438  34.361754  232962.546255  3.806089e+06  51S\n",
      "1  A48  120.097015  34.358799  233006.205732  3.805759e+06  51S\n",
      "2  A49  120.095821  34.355970  232887.394774  3.805449e+06  51S\n",
      "3  A50  120.094077  34.353105  232717.879728  3.805135e+06  51S\n"
     ]
    }
   ],
   "source": [
    "converted = utm.UTMConv.utm_global_arr(utm.UTMConv(), dat['Long'], dat['Lat'])\n",
    "pt, zone = list(zip(*converted))\n",
    "zone = [(str(zone[i]).split('(')[1]).split(')')[0] for i in range(len(zone))]\n",
    "#print(zone)\n",
    "x,y = list(zip(*pt))\n",
    "dat['x'] = list(x)\n",
    "dat['y'] = list(y)\n",
    "dat['zone'] = list(zone)\n",
    "print(dat)\n",
    "#dat.to_csv('TurbinesLayout.csv')"
   ]
  },
  {
   "cell_type": "code",
   "execution_count": 5,
   "metadata": {},
   "outputs": [
    {
     "data": {
      "image/png": "[encoded data removed]",
      "text/plain": [
       "<matplotlib.figure.Figure at 0x7fe2c81064a8>"
      ]
     },
     "metadata": {},
     "output_type": "display_data"
    }
   ],
   "source": [
    "plt.plot(dat['x'], dat['y'], marker = 'o', markersize=10 )\n",
    "plt.axis('equal')\n",
    "plt.xlabel('UTM x')  \n",
    "plt.ylabel('UTM y')\n",
    "plt.title('Turbine locations')\n",
    "for i in range(len(dat)):\n",
    "    plt.text(dat['x'][i]+30, dat['y'][i], dat['Name'][i])\n",
    "plt.show()"
   ]
  },
  {
   "cell_type": "code",
   "execution_count": 6,
   "metadata": {},
   "outputs": [
    {
     "name": "stdout",
     "output_type": "stream",
     "text": [
      "Ref Turb ( A47 ),  Location:  [232962.5462551202, 3806088.6535553536]\n"
     ]
    }
   ],
   "source": [
    "refTurbIndex = 0\n",
    "refTurb = [dat['x'][refTurbIndex],dat['y'][refTurbIndex]]\n",
    "print('Ref Turb (', dat['Name'][refTurbIndex] , '),  Location: ', refTurb)\n",
    "\n",
    "# Original Coordinates\n",
    "dist, theta = rTheta(dat['x'], dat['y'], refTurb[0], refTurb[1])\n",
    "sector = polar2sector(theta)"
   ]
  },
  {
   "cell_type": "code",
   "execution_count": 7,
   "metadata": {},
   "outputs": [
    {
     "name": "stdout",
     "output_type": "stream",
     "text": [
      "Turb Locs w.r.t. Ref Turb:\n",
      "             x           y        dist    dist_D       theta      sector\n",
      "0    0.000000    0.000000    0.000000  0.000000  180.000000   90.000000\n",
      "1   43.659477 -329.293924  332.175614  3.019778   97.552519  172.447481\n",
      "2  -75.151481 -640.025377  644.422399  5.858385   83.303022  186.696978\n",
      "3 -244.666527 -953.280605  984.177637  8.947069   75.605319  194.394681\n"
     ]
    }
   ],
   "source": [
    "dat['x'] -= refTurb[0]\n",
    "dat['y'] -= refTurb[1]\n",
    "turbLoc = pd.DataFrame(\n",
    "          {'x':dat['x'],\n",
    "           'y':dat['y'],\n",
    "           'dist': dist,\n",
    "           'dist_D':dist/D,\n",
    "           'theta': theta,\n",
    "           'sector': sector\n",
    "          })\n",
    "print('Turb Locs w.r.t. Ref Turb:\\n', turbLoc)"
   ]
  },
  {
   "cell_type": "code",
   "execution_count": 8,
   "metadata": {},
   "outputs": [
    {
     "name": "stdout",
     "output_type": "stream",
     "text": [
      "-1.7026126494333877\n"
     ]
    }
   ],
   "source": [
    "# Layout for DES\n",
    "rotAngle = -np.deg2rad(theta[1]) #turbLoc['theta'][1]\n",
    "print(rotAngle)\n",
    "\n",
    "# After rotation\n",
    "xNew, yNew = rotate(dat['x'],dat['y'], rotAngle) # x, y already wrt ref turb\n",
    "distNew, thetaNew = rTheta(xNew, yNew) # Already wrt ref turb\n",
    "sectorNew = polar2sector(thetaNew)"
   ]
  },
  {
   "cell_type": "code",
   "execution_count": 9,
   "metadata": {},
   "outputs": [
    {
     "name": "stdout",
     "output_type": "stream",
     "text": [
      "Turb Locs w.r.t. Ref Turb after rotation:\n",
      "             x             y        dist    dist_D         theta      sector\n",
      "0    0.000000 -0.000000e+00    0.000000  0.000000  1.800000e+02   90.000000\n",
      "1 -332.175614 -3.552714e-14  332.175614  3.019778  6.127948e-15  270.000000\n",
      "2 -624.595500  1.586212e+02  644.422399  5.858385 -1.424950e+01  284.249497\n",
      "3 -912.852979  3.678384e+02  984.177637  8.947069 -2.194720e+01  291.947200\n"
     ]
    }
   ],
   "source": [
    "turbLoc = pd.DataFrame(\n",
    "          {'x':xNew,\n",
    "           'y':yNew,\n",
    "           'dist': distNew,\n",
    "           'dist_D':distNew/D,\n",
    "           'theta': thetaNew,\n",
    "           'sector': sectorNew\n",
    "          })\n",
    "print('Turb Locs w.r.t. Ref Turb after rotation:\\n', turbLoc)"
   ]
  },
  {
   "cell_type": "code",
   "execution_count": 10,
   "metadata": {},
   "outputs": [
    {
     "data": {
      "image/png": "[encoded data removed]",
      "text/plain": [
       "<matplotlib.figure.Figure at 0x7fe2c02061d0>"
      ]
     },
     "metadata": {},
     "output_type": "display_data"
    }
   ],
   "source": [
    "# Layout for DES\n",
    "plt.plot(xNew, yNew, marker = 'o', markersize=10 )\n",
    "plt.axis('equal')\n",
    "plt.xlabel('x')  \n",
    "plt.ylabel('y')\n",
    "for i in range(len(dat)):\n",
    "    plt.text(xNew[i], yNew[i] +30, dat['Name'][i])\n",
    "plt.title('Turbine locations')\n",
    "plt.show()"
   ]
  },
  {
   "cell_type": "code",
   "execution_count": 11,
   "metadata": {},
   "outputs": [
    {
     "name": "stdout",
     "output_type": "stream",
     "text": [
      "bbox:  [-2012.8529790678558, -550.0, 1650.0, 917.8383605346334]\n"
     ]
    }
   ],
   "source": [
    "# Layout for DES\n",
    "bbox = [np.amin(xNew)-10*D, np.amin(yNew)-5*D, np.amax(xNew)+15*D, np.amax(yNew)+5*D] \n",
    "print('bbox: ',bbox)"
   ]
  },
  {
   "cell_type": "code",
   "execution_count": 16,
   "metadata": {},
   "outputs": [
    {
     "name": "stdout",
     "output_type": "stream",
     "text": [
      "-0.9172144860359396\n"
     ]
    }
   ],
   "source": [
    "# Layout for LES\n",
    "rotAngle = -np.deg2rad(225.0 - sector[1]) #turbLoc['theta'][1]\n",
    "print(rotAngle)\n",
    "\n",
    "# After rotation\n",
    "xNew, yNew = rotate(dat['x'],dat['y'], rotAngle) # x, y already wrt ref turb\n",
    "distNew, thetaNew = rTheta(xNew, yNew) # Already wrt ref turb\n",
    "sectorNew = polar2sector(thetaNew)"
   ]
  },
  {
   "cell_type": "code",
   "execution_count": 17,
   "metadata": {},
   "outputs": [
    {
     "name": "stdout",
     "output_type": "stream",
     "text": [
      "Turb Locs w.r.t. Ref Turb after rotation:\n",
      "             x           y        dist    dist_D       theta      sector\n",
      "0    0.000000    0.000000    0.000000  0.000000  180.000000   90.000000\n",
      "1 -234.883629 -234.883629  332.175614  3.019778   45.000000  225.000000\n",
      "2 -553.817849 -329.493577  644.422399  5.858385   30.750503  239.249497\n",
      "3 -905.585531 -385.383533  984.177637  8.947069   23.052800  246.947200\n"
     ]
    }
   ],
   "source": [
    "turbLoc = pd.DataFrame(\n",
    "          {'x':xNew,\n",
    "           'y':yNew,\n",
    "           'dist': distNew,\n",
    "           'dist_D':distNew/D,\n",
    "           'theta': thetaNew,\n",
    "           'sector': sectorNew\n",
    "          })\n",
    "print('Turb Locs w.r.t. Ref Turb after rotation:\\n', turbLoc)"
   ]
  },
  {
   "cell_type": "code",
   "execution_count": 18,
   "metadata": {},
   "outputs": [
    {
     "data": {
      "image/png": "[encoded data removed]",
      "text/plain": [
       "<matplotlib.figure.Figure at 0x7fe2bc150f60>"
      ]
     },
     "metadata": {},
     "output_type": "display_data"
    }
   ],
   "source": [
    "# Layout for LES\n",
    "plt.plot(xNew, yNew, marker = 'o', markersize=10 )\n",
    "plt.axis('equal')\n",
    "plt.xlabel('x')  \n",
    "plt.ylabel('y')\n",
    "for i in range(len(dat)):\n",
    "    plt.text(xNew[i], yNew[i] +30, dat['Name'][i])\n",
    "plt.title('Turbine locations')\n",
    "plt.show()"
   ]
  },
  {
   "cell_type": "code",
   "execution_count": 27,
   "metadata": {},
   "outputs": [
    {
     "name": "stdout",
     "output_type": "stream",
     "text": [
      "bbox:  [-2005 -1485  1650  1100]\n"
     ]
    }
   ],
   "source": [
    "# Layout for LES\n",
    "bbox = np.array([np.amin(xNew)-10*D, np.amin(yNew)-10*D, np.amax(xNew)+15*D, np.amax(yNew)+10*D]).astype(int)\n",
    "print('bbox: ',bbox)"
   ]
  },
  {
   "cell_type": "code",
   "execution_count": 28,
   "metadata": {},
   "outputs": [
    {
     "name": "stdout",
     "output_type": "stream",
     "text": [
      "Nx = 365, Ny= 258\n"
     ]
    }
   ],
   "source": [
    "dGrid = 10 # m\n",
    "Nx = int((bbox[2]-bbox[0])/dGrid)\n",
    "Ny = int((bbox[3]-bbox[1])/dGrid)\n",
    "print('Nx = %d, Ny= %d'%(Nx, Ny))"
   ]
  },
  {
   "cell_type": "code",
   "execution_count": null,
   "metadata": {
    "collapsed": true
   },
   "outputs": [],
   "source": []
  }
 ],
 "metadata": {
  "kernelspec": {
   "display_name": "Python 3",
   "language": "python",
   "name": "python3"
  },
  "language_info": {
   "codemirror_mode": {
    "name": "ipython",
    "version": 3
   },
   "file_extension": ".py",
   "mimetype": "text/x-python",
   "name": "python",
   "nbconvert_exporter": "python",
   "pygments_lexer": "ipython3",
   "version": "3.6.3"
  }
 },
 "nbformat": 4,
 "nbformat_minor": 2
}

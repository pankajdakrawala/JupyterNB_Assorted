{
 "cells": [
  {
   "cell_type": "markdown",
   "id": "f17d30d7",
   "metadata": {},
   "source": [
    "## Iterators and Generators"
   ]
  },
  {
   "cell_type": "markdown",
   "id": "152b664f",
   "metadata": {},
   "source": [
    "### Range"
   ]
  },
  {
   "cell_type": "code",
   "execution_count": 1,
   "id": "1eed9b22",
   "metadata": {},
   "outputs": [],
   "source": [
    "def my_range(n):\n",
    "    i = 0\n",
    "    while i < n:\n",
    "        yield i\n",
    "        i += 1"
   ]
  },
  {
   "cell_type": "code",
   "execution_count": 2,
   "id": "2be6378c",
   "metadata": {},
   "outputs": [
    {
     "name": "stdout",
     "output_type": "stream",
     "text": [
      "0\n",
      "1\n",
      "2\n",
      "3\n",
      "4\n"
     ]
    }
   ],
   "source": [
    "for n in my_range(5):\n",
    "    print(n)"
   ]
  },
  {
   "cell_type": "markdown",
   "id": "9658b5f4",
   "metadata": {},
   "source": [
    "### Enumerate"
   ]
  },
  {
   "cell_type": "code",
   "execution_count": 3,
   "id": "22f3b697",
   "metadata": {},
   "outputs": [],
   "source": [
    "def my_enumerate(lessons, start = 0):\n",
    "    i = start\n",
    "    while i < len(lessons) + start:\n",
    "        yield i, lessons[i-start]\n",
    "        i +=1\n",
    "    "
   ]
  },
  {
   "cell_type": "code",
   "execution_count": 4,
   "id": "c85d4461",
   "metadata": {},
   "outputs": [
    {
     "name": "stdout",
     "output_type": "stream",
     "text": [
      "Lesson 6: Why Python Programming\n",
      "Lesson 7: Data Types and Operators\n",
      "Lesson 8: Control Flow\n",
      "Lesson 9: Functions\n",
      "Lesson 10: Scripting\n"
     ]
    }
   ],
   "source": [
    "lessons = [\"Why Python Programming\", \"Data Types and Operators\", \"Control Flow\", \"Functions\", \"Scripting\"]\n",
    "\n",
    "for i, lesson in my_enumerate(lessons, 6):\n",
    "    print(\"Lesson {}: {}\".format(i, lesson))"
   ]
  },
  {
   "cell_type": "code",
   "execution_count": 5,
   "id": "e7060ab0",
   "metadata": {},
   "outputs": [],
   "source": [
    "def my_enumerate2(iterable, start=0):\n",
    "    count = start\n",
    "    for element in iterable:\n",
    "        yield count, element\n",
    "        count += 1"
   ]
  },
  {
   "cell_type": "code",
   "execution_count": 6,
   "id": "006b7950",
   "metadata": {},
   "outputs": [
    {
     "name": "stdout",
     "output_type": "stream",
     "text": [
      "Lesson 6: Why Python Programming\n",
      "Lesson 7: Data Types and Operators\n",
      "Lesson 8: Control Flow\n",
      "Lesson 9: Functions\n",
      "Lesson 10: Scripting\n"
     ]
    }
   ],
   "source": [
    "lessons = [\"Why Python Programming\", \"Data Types and Operators\", \"Control Flow\", \"Functions\", \"Scripting\"]\n",
    "\n",
    "for i, lesson in my_enumerate2(lessons, 6):\n",
    "    print(\"Lesson {}: {}\".format(i, lesson))"
   ]
  },
  {
   "cell_type": "code",
   "execution_count": 7,
   "id": "7d7261a5",
   "metadata": {},
   "outputs": [
    {
     "name": "stdout",
     "output_type": "stream",
     "text": [
      "Lesson 6: Why Python Programming\n",
      "Lesson 7: Data Types and Operators\n",
      "Lesson 8: Control Flow\n",
      "Lesson 9: Functions\n",
      "Lesson 10: Scripting\n"
     ]
    }
   ],
   "source": [
    "for i, lesson in enumerate(lessons, 6):\n",
    "    print(\"Lesson {}: {}\".format(i, lesson))"
   ]
  },
  {
   "cell_type": "markdown",
   "id": "38a11b57",
   "metadata": {},
   "source": [
    "### Chunker"
   ]
  },
  {
   "cell_type": "code",
   "execution_count": 8,
   "id": "2ac226d4",
   "metadata": {},
   "outputs": [],
   "source": [
    "def chunker(iterable, size):\n",
    "    # Implement function here\n",
    "    start = 0\n",
    "    while start + size < len(iterable):\n",
    "        end = start + size\n",
    "        yield iterable[start:end]\n",
    "        start = end\n",
    "    yield iterable[start:]"
   ]
  },
  {
   "cell_type": "code",
   "execution_count": 9,
   "id": "63af659b",
   "metadata": {},
   "outputs": [
    {
     "name": "stdout",
     "output_type": "stream",
     "text": [
      "[0, 1, 2, 3]\n",
      "[4, 5, 6, 7]\n",
      "[8, 9, 10, 11]\n",
      "[12, 13, 14, 15]\n",
      "[16, 17, 18, 19]\n",
      "[20, 21, 22, 23]\n",
      "[24]\n"
     ]
    }
   ],
   "source": [
    "for chunk in chunker(range(25), 4):\n",
    "    print(list(chunk))"
   ]
  },
  {
   "cell_type": "markdown",
   "id": "b2eb8143",
   "metadata": {},
   "source": [
    "### Generator Expressions"
   ]
  },
  {
   "cell_type": "code",
   "execution_count": 10,
   "id": "0bb6ba16",
   "metadata": {},
   "outputs": [],
   "source": [
    "sq_list = [x**2 for x in range(10)]  # this produces a list of squares\n",
    "\n",
    "sq_iterator = (x**2 for x in range(10))  # this produces an iterator of squares"
   ]
  },
  {
   "cell_type": "code",
   "execution_count": 11,
   "id": "257191b2",
   "metadata": {},
   "outputs": [
    {
     "data": {
      "text/plain": [
       "[0, 1, 4, 9, 16, 25, 36, 49, 64, 81]"
      ]
     },
     "execution_count": 11,
     "metadata": {},
     "output_type": "execute_result"
    }
   ],
   "source": [
    "sq_list"
   ]
  },
  {
   "cell_type": "code",
   "execution_count": 12,
   "id": "192205b5",
   "metadata": {},
   "outputs": [
    {
     "name": "stdout",
     "output_type": "stream",
     "text": [
      "0\n",
      "1\n",
      "4\n",
      "9\n",
      "16\n",
      "25\n",
      "36\n",
      "49\n",
      "64\n",
      "81\n"
     ]
    }
   ],
   "source": [
    "for sqr in sq_iterator:\n",
    "    print(sqr)"
   ]
  }
 ],
 "metadata": {
  "kernelspec": {
   "display_name": "py3_ml_conda",
   "language": "python",
   "name": "py3_ml"
  },
  "language_info": {
   "codemirror_mode": {
    "name": "ipython",
    "version": 3
   },
   "file_extension": ".py",
   "mimetype": "text/x-python",
   "name": "python",
   "nbconvert_exporter": "python",
   "pygments_lexer": "ipython3",
   "version": "3.10.9"
  }
 },
 "nbformat": 4,
 "nbformat_minor": 5
}

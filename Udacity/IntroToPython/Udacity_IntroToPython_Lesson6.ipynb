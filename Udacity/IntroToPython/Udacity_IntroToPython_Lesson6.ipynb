{
 "cells": [
  {
   "cell_type": "markdown",
   "id": "5f3ff902",
   "metadata": {},
   "source": [
    "## #7"
   ]
  },
  {
   "cell_type": "code",
   "execution_count": 2,
   "id": "ad2c7512",
   "metadata": {},
   "outputs": [
    {
     "name": "stdout",
     "output_type": "stream",
     "text": [
      "\n",
      "Welcome to Python3!\n",
      "\n",
      "             ____\n",
      "            / . .\\\n",
      "            \\  ---<\n",
      "             \\  /\n",
      "   __________/ /\n",
      "-=:___________/\n",
      "\n",
      "<3, Juno\n",
      "\n"
     ]
    }
   ],
   "source": [
    "how_many_snakes = 1\n",
    "snake_string = \"\"\"\n",
    "Welcome to Python3!\n",
    "\n",
    "             ____\n",
    "            / . .\\\\\n",
    "            \\  ---<\n",
    "             \\  /\n",
    "   __________/ /\n",
    "-=:___________/\n",
    "\n",
    "<3, Juno\n",
    "\"\"\"\n",
    "\n",
    "\n",
    "print(snake_string * how_many_snakes)"
   ]
  },
  {
   "cell_type": "markdown",
   "id": "bdb7a5c4",
   "metadata": {},
   "source": [
    "## #8"
   ]
  },
  {
   "cell_type": "code",
   "execution_count": 9,
   "id": "ab2099b2",
   "metadata": {},
   "outputs": [
    {
     "name": "stdout",
     "output_type": "stream",
     "text": [
      "Enter a namepankaj\n",
      "Hello there, Pankaj!\n"
     ]
    }
   ],
   "source": [
    "name = input('Enter a name')\n",
    "print(\"Hello there, {}!\".format(name.title()))"
   ]
  },
  {
   "cell_type": "code",
   "execution_count": 6,
   "id": "dd8104a8",
   "metadata": {},
   "outputs": [
    {
     "name": "stdout",
     "output_type": "stream",
     "text": [
      "Enter an integer3\n",
      "hellohellohello\n"
     ]
    }
   ],
   "source": [
    "num = int(input(\"Enter an integer\"))\n",
    "print(\"hello\" * num)"
   ]
  },
  {
   "cell_type": "code",
   "execution_count": 8,
   "id": "40476b84",
   "metadata": {},
   "outputs": [
    {
     "name": "stdout",
     "output_type": "stream",
     "text": [
      "Enter an expression: 2+3\n",
      "5\n"
     ]
    }
   ],
   "source": [
    "result = eval(input(\"Enter an expression: \"))\n",
    "print(result)"
   ]
  },
  {
   "cell_type": "markdown",
   "id": "11225e1a",
   "metadata": {},
   "source": [
    "## #9"
   ]
  },
  {
   "cell_type": "code",
   "execution_count": 23,
   "id": "167a6438",
   "metadata": {},
   "outputs": [
    {
     "name": "stdout",
     "output_type": "stream",
     "text": [
      "Enter names separated by commas:a,b\n",
      "Enter assignment counts separated by commas:3,4\n",
      "Enter grades separated by commas:56,67\n",
      "Hi a,\n",
      "\n",
      "This is a reminder that you have 3 assignments left to     submit before you can graduate. Your current grade is 56 and can increase     to 62 if you submit all assignments before the due date.\n",
      "\n",
      "\n",
      "Hi b,\n",
      "\n",
      "This is a reminder that you have 4 assignments left to     submit before you can graduate. Your current grade is 67 and can increase     to 75 if you submit all assignments before the due date.\n",
      "\n",
      "\n"
     ]
    }
   ],
   "source": [
    "# get and process input for a list of names\n",
    "names =  input('Enter names separated by commas:').split(',')\n",
    "\n",
    "# get and process input for a list of the number of assignments\n",
    "assignments = input('Enter assignment counts separated by commas:').split(',')\n",
    "\n",
    "# get and process input for a list of grades\n",
    "grades =  input('Enter grades separated by commas:').split(',')\n",
    "\n",
    "## message string to be used for each student\n",
    "## HINT: use .format() with this string in your for loop\n",
    "\n",
    "\n",
    "## write a for loop that iterates through each set of names, assignments, and grades to print each student's message\n",
    "for name, assg, grade in zip(names, assignments, grades):\n",
    "    message = \"Hi {},\\n\\nThis is a reminder that you have {} assignments left to \\\n",
    "    submit before you can graduate. Your current grade is {} and can increase \\\n",
    "    to {} if you submit all assignments before the due date.\\n\\n\".format(\\\n",
    "                                name, assg, grade, int(grade) + 2*int(assg))\n",
    "    print(message)"
   ]
  },
  {
   "cell_type": "markdown",
   "id": "d691f201",
   "metadata": {},
   "source": [
    "## #14 - #16"
   ]
  },
  {
   "cell_type": "code",
   "execution_count": 30,
   "id": "153a0c57",
   "metadata": {},
   "outputs": [],
   "source": [
    "def party_planner(cookies, people):\n",
    "    leftovers = None\n",
    "    num_each = None\n",
    "    # TODO: Add a try-except block here to\n",
    "    #       make sure no ZeroDivisionError occurs.\n",
    "    try:\n",
    "        num_each = cookies // people\n",
    "        leftovers = cookies % people\n",
    "        print('Each of {} people get {} cookies and {} are left over'.format(\n",
    "            people, num_each, leftovers))\n",
    "    except ZeroDivisionError as e:\n",
    "        print('Number of people should be more than 0')\n",
    "        print(\"ZeroDivisionError occurred: {}\".format(e))\n",
    "    finally:\n",
    "        print('\\nAttempted Input\\n')"
   ]
  },
  {
   "cell_type": "code",
   "execution_count": 31,
   "id": "3708f038",
   "metadata": {},
   "outputs": [
    {
     "name": "stdout",
     "output_type": "stream",
     "text": [
      "Number of people should be more than 0\n",
      "ZeroDivisionError occurred: integer division or modulo by zero\n",
      "\n",
      "Attempted Input\n",
      "\n"
     ]
    }
   ],
   "source": [
    "party_planner(13, 0)"
   ]
  },
  {
   "cell_type": "markdown",
   "id": "4cb5e117",
   "metadata": {},
   "source": [
    "## #24 Password Generator"
   ]
  },
  {
   "cell_type": "code",
   "execution_count": null,
   "id": "e59b5231",
   "metadata": {},
   "outputs": [],
   "source": [
    "# TODO: First import the `random` module\n",
    "import random\n",
    "\n",
    "# We begin with an empty `word_list`\n",
    "word_file = \"words.txt\"\n",
    "word_list = []\n",
    "\n",
    "# We fill up the word_list from the `words.txt` file\n",
    "with open(word_file,'r') as words:\n",
    "\tfor line in words:\n",
    "\t\t# remove white space and make everything lowercase\n",
    "\t\tword = line.strip().lower()\n",
    "\t\t# don't include words that are too long or too short\n",
    "\t\tif 3 < len(word) < 8:\n",
    "\t\t\tword_list.append(word)\n",
    "\n",
    "# TODO: Add your function generate_password below\n",
    "# It should return a string consisting of three random words \n",
    "# concatenated together without spaces\n",
    "\n",
    "def generate_password():\n",
    "    word_list_passwd = random.sample(word_list, 3)\n",
    "    '''\n",
    "    passwd = ''\n",
    "    for word in word_list_passwd:\n",
    "        passwd = passwd + word\n",
    "    '''\n",
    "    passwd = ''.join(word_list_passwd)\n",
    "    return passwd\n",
    "\n",
    "\n",
    "# Now we test the function\n",
    "print(generate_password())"
   ]
  },
  {
   "cell_type": "code",
   "execution_count": null,
   "id": "c0bef211",
   "metadata": {},
   "outputs": [],
   "source": []
  }
 ],
 "metadata": {
  "kernelspec": {
   "display_name": "py3_ml_conda",
   "language": "python",
   "name": "py3_ml"
  },
  "language_info": {
   "codemirror_mode": {
    "name": "ipython",
    "version": 3
   },
   "file_extension": ".py",
   "mimetype": "text/x-python",
   "name": "python",
   "nbconvert_exporter": "python",
   "pygments_lexer": "ipython3",
   "version": "3.10.9"
  }
 },
 "nbformat": 4,
 "nbformat_minor": 5
}

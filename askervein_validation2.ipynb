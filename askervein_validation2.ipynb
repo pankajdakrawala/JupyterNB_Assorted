{
 "cells": [
  {
   "cell_type": "code",
   "execution_count": 1,
   "metadata": {
    "collapsed": true
   },
   "outputs": [],
   "source": [
    "import os, sys, subprocess\n",
    "import numpy as np\n",
    "import matplotlib as mpl\n",
    "import matplotlib.pyplot as plt\n",
    "import pandas as pd"
   ]
  },
  {
   "cell_type": "code",
   "execution_count": 2,
   "metadata": {
    "collapsed": true
   },
   "outputs": [],
   "source": [
    "\"\"\" Function to convert sector to polar angle \"\"\"\n",
    "def sector2polar(sector):\n",
    "    polarAngle = 270.0 - sector # Returns in the range [-90, +270] degrees rather than [-180, +180]\n",
    "    if polarAngle >=180.0 and polarAngle <= 270.0:\n",
    "        polarAngle = polarAngle - 360.0\n",
    "    return polarAngle\n",
    "\n",
    "\"\"\" Compute axial velocity \"\"\"\n",
    "def axialVel(U, V, sector):\n",
    "    polarAngle = sector2polar(sector)\n",
    "    fDir = np.deg2rad(polarAngle)\n",
    "    #print 'polar angle: ', polarAngle, 'deg = ', fDir, ' radians'\n",
    "    Uax = U*np.cos(fDir) + V*np.sin(fDir)\n",
    "    #print U, V, Uax\n",
    "    return Uax"
   ]
  },
  {
   "cell_type": "code",
   "execution_count": 3,
   "metadata": {
    "collapsed": true
   },
   "outputs": [],
   "source": [
    "def readU(test_path, fileName):\n",
    "    probesU = pd.read_csv(os.path.join(test_path, fileName), sep='\\s+', skiprows=0,\n",
    "                                 names=['x', 'y', 'z', 'U', 'V', 'W'])\n",
    "    return probesU\n",
    "\n",
    "def readUprime(test_path, fileName):\n",
    "    probesUp = pd.read_csv(os.path.join(test_path, fileName), sep='\\s+', skiprows=0,\n",
    "                                 names=['x', 'y', 'z', 'Uxx', 'Uyy', 'Uzz', 'Uxy', 'Uyz', 'Uxz'])\n",
    "    return probesUp\n",
    "\n",
    "def readkOmega(test_path, fileName):\n",
    "    probesk = pd.read_csv(os.path.join(test_path, fileName), sep='\\s+', skiprows=0,\n",
    "                                 names=['x', 'y', 'z', 'k', 'p', 'omega', 'nuSgs'])\n",
    "    return probesk\n",
    "\n",
    "def readkEps(test_path, fileName):\n",
    "    probesk = pd.read_csv(os.path.join(test_path, fileName), sep='\\s+', skiprows=0,\n",
    "                                 names=['x', 'y', 'z', 'k', 'p', 'nuSgs'])\n",
    "    return probesk\n",
    "\n",
    "def readkEpsRANS(test_path, fileName):\n",
    "    probesk = pd.read_csv(os.path.join(test_path, fileName), sep='\\s+', skiprows=0,\n",
    "                                 names=['x', 'y', 'z', 'k', 'p'])\n",
    "    return probesk"
   ]
  },
  {
   "cell_type": "code",
   "execution_count": 4,
   "metadata": {
    "collapsed": true
   },
   "outputs": [],
   "source": [
    "def plotSimData(probes,caseInd,probeIndex,lineDef,xVar,yVar,k_res = False):\n",
    "    for caseI in caseInd:\n",
    "        #Extract data for the case and the specific probes\n",
    "        probeInd = probeIndex[caseI][lineDef]\n",
    "        #print '... ... yVar: ',yVar, 'case name: ', caseName[caseI], ', probeInd: ', probeInd\n",
    "        data = probes[caseI].iloc[probeInd] if len(probeInd)>0 else probes[caseI]\n",
    "        if yVar == 'k' and k_res == True:\n",
    "            dataUp = probesUp[caseI].iloc[probeInd] if len(probeInd)>0 else probesUp[caseI]\n",
    "            resolved_k = 0.5*(dataUp['Uxx'] + dataUp['Uyy'] + dataUp['Uzz'])\n",
    "            #print 'Resolved k: ', resolved_k\n",
    "            plt.plot(data[xVar], data[yVar] + resolved_k, plotStyle[caseI], label=labelText[caseI])\n",
    "        else:\n",
    "            plt.plot(data[xVar], data[yVar], plotStyle[caseI], label=labelText[caseI])         "
   ]
  },
  {
   "cell_type": "code",
   "execution_count": 5,
   "metadata": {
    "collapsed": true
   },
   "outputs": [],
   "source": [
    "def plotExpt(xExpt, yExpt, probeInd):\n",
    "    #print 'xExpt:\\n', xExpt\n",
    "    #print 'yExpt:\\n', yExpt\n",
    "    if len(probeInd)>0:\n",
    "        plt.plot(xExpt[probeInd], yExpt[probeInd], 's', color='k', label='Measured')\n",
    "    else:\n",
    "        plt.plot(xExpt, yExpt, 's', color='k', label='Measured')\n",
    "            "
   ]
  },
  {
   "cell_type": "code",
   "execution_count": 6,
   "metadata": {
    "collapsed": true
   },
   "outputs": [],
   "source": [
    "def plotLabelEtc(xlabelText,ylabelText,plotSubDir,figName):\n",
    "    plt.xlabel(xlabelText)\n",
    "    plt.ylabel(ylabelText)\n",
    "    #plt.legend(loc='best')\n",
    "    plt.legend(loc='upper center', bbox_to_anchor=(0.5, 1.18),\n",
    "               ncol=3, fancybox=True, shadow=True)\n",
    "    plotDir = os.path.join('plots', plotSubDir)\n",
    "    if not os.path.exists(plotDir):\n",
    "        os.makedirs(plotDir)\n",
    "    plt.savefig(os.path.join(plotDir,figName))\n",
    "    plt.close()"
   ]
  },
  {
   "cell_type": "code",
   "execution_count": 7,
   "metadata": {
    "collapsed": true
   },
   "outputs": [],
   "source": [
    "def plotVar(probes,caseInd,probeInd,lineDef,xVar,yVar, xlabelText,ylabelText,plotSubDir,figName,k_res = False):\n",
    "    plotSimData(probes,caseInd,probeInd,lineDef,xVar,yVar,k_res = False)\n",
    "    plotLabelEtc(xlabelText,ylabelText,plotSubDir,figName)"
   ]
  },
  {
   "cell_type": "code",
   "execution_count": 8,
   "metadata": {
    "collapsed": true
   },
   "outputs": [],
   "source": [
    "def plotVarExpt(probes,caseInd,probeInd,lineDef,xVar,yVar, xlabelText,ylabelText,plotSubDir,figName, xExpt,yExpt,k_res = False):\n",
    "    plotSimData(probes,caseInd,probeInd,lineDef,xVar,yVar,k_res = False)\n",
    "    plotExpt(xExpt, yExpt, lineDef_Indices_Expt[lineDef]) \n",
    "    plotLabelEtc(xlabelText,ylabelText,plotSubDir,figName)"
   ]
  },
  {
   "cell_type": "code",
   "execution_count": 9,
   "metadata": {
    "collapsed": true
   },
   "outputs": [],
   "source": [
    "expDataFile = \"measured_modified.txt\"\n",
    "simList = ['kEps_rans_asl_coarseMesh', \\\n",
    "           'kOmega_des_asl_coarseMesh', \\\n",
    "           'kOmega_iddes_asl_coarseMesh', \\\n",
    "           'kOmega_des_asl_fineMesh', \\\n",
    "           'kOmega_iddes_asl_fineMesh', \\\n",
    "           'kOmega_iddes_asl_betaStar0.03', \\\n",
    "           'kOmega_des_asl_betaStar0.03']\n",
    "\n",
    "labelText = ['ke RANS', \\\n",
    "             'kw DES, beta*=0.09', \\\n",
    "             'kw IDDES, beta*=0.09', \\\n",
    "             'Fine, k-w DES', \\\n",
    "             'Fine, k-w IDDES',\n",
    "             'kw DES, beta*=0.03', \\\n",
    "             'kw IDDES, beta*=0.03']\n",
    "\"\"\"\n",
    "labelText = ['k-e, RANS', \\\n",
    "             'Coarse,k-w DES', \\\n",
    "             'k-w, DES', \\\n",
    "             'Fine, k-w DES', \\\n",
    "             'Fine, k-w IDDES']\n",
    "\"\"\"\n",
    "\n",
    "#plotStyle = ['r-', 'b--', 'g-', 'm-.', 'k-', 'y--', 'r-.', 'k:']\n",
    "plotStyle = ['r-*', 'b-->', 'g-.o', 'm-.^', 'k--*', 'y--^', 'k-.*', 'k:']"
   ]
  },
  {
   "cell_type": "code",
   "execution_count": 10,
   "metadata": {
    "collapsed": true
   },
   "outputs": [],
   "source": [
    "# Map plot subdirectories to case indices\n",
    "plotSubDir_Indices = {'validation_all'  : [0, 1, 2, 5, 6], \\\n",
    "                      'validation_toPresent':[0, 2]}\n",
    "# Map line definition to probe indices\n",
    "lineDef_Indices_Expt = {'A' : [0, 1, 2, 3, 4, 6, 7, 8], \\\n",
    "                        'AASW': [9, 10, 11, 12, 13, 14, 15], \\\n",
    "                        'AANE': [17, 18, 19, 20, 21, 22], \\\n",
    "                        'B' : [24, 23, 26, 27, 28, 30, 31, 32, 33, 34, 35, 36, 37, 38]}\n",
    "lineDef_Indices_coarseMesh = {'A' : [0, 1, 2, 3, 4, 6, 7, 8], \\\n",
    "                              'AASW': [9, 10, 11, 12, 13, 14, 15], \\\n",
    "                              'AANE': [17, 18, 19, 20, 21], \\\n",
    "                              'B' : [23, 22, 25, 26, 27, 29, 30, 31, 32, 33, 34, 35]}\n",
    "lineDef_Indices_fineMesh = {'A' : [0, 1, 2, 3, 4, 6, 7, 8], \\\n",
    "                            'AASW': [9, 10, 11, 12, 13, 14], \\\n",
    "                            'AANE': [16, 17, 18, 19, 20, 21], \\\n",
    "                            'B' : [23, 22, 25, 26, 27, 29, 30, 31, 32, 33, 34, 35, 36, 37]}"
   ]
  },
  {
   "cell_type": "code",
   "execution_count": 11,
   "metadata": {},
   "outputs": [
    {
     "name": "stderr",
     "output_type": "stream",
     "text": [
      "/home/pkjha/anaconda3/lib/python3.6/site-packages/ipykernel_launcher.py:12: SettingWithCopyWarning: \n",
      "A value is trying to be set on a copy of a slice from a DataFrame\n",
      "\n",
      "See the caveats in the documentation: http://pandas.pydata.org/pandas-docs/stable/indexing.html#indexing-view-versus-copy\n",
      "  if sys.path[0] == '':\n"
     ]
    }
   ],
   "source": [
    "## Make sure to provide the correct reference values used in the experiment ##\n",
    "U_ref = 8.0\n",
    "TKE_ref = 75.0\n",
    "sector = 210.0\n",
    "\n",
    "expData = pd.read_csv(expDataFile, sep='\\s+', skiprows=1,\n",
    "                         names=['name1', 'name2', 'name3','x', 'y', 'H', 'dist', 'FSR', 'FSRmin', 'FSRmax', 'TKEstar'])\n",
    "#print 'Expt data read: \\n', expData\n",
    "\n",
    "for i in range(len(expData['TKEstar'])):\n",
    "    if expData['TKEstar'][i] < 0:\n",
    "        expData['TKEstar'][i]  = 'nan'\n",
    "#print 'TKE: ', expData['TKEstar']*TKE_ref\n",
    "    \n",
    "# Compute derived quantities from expt data\n",
    "Uax = (1 + expData['FSR'])*U_ref\n",
    "#print 'Uax: ', Uax"
   ]
  },
  {
   "cell_type": "code",
   "execution_count": 12,
   "metadata": {},
   "outputs": [
    {
     "name": "stdout",
     "output_type": "stream",
     "text": [
      "... lineDef (Expt): A ... probe index:  [0, 1, 2, 3, 4, 6, 7, 8] ...\n",
      "... lineDef (Expt): AASW ... probe index:  [9, 10, 11, 12, 13, 14, 15] ...\n",
      "... lineDef (Expt): AANE ... probe index:  [17, 18, 19, 20, 21, 22] ...\n",
      "... lineDef (Expt): B ... probe index:  [24, 23, 26, 27, 28, 30, 31, 32, 33, 34, 35, 36, 37, 38] ...\n"
     ]
    }
   ],
   "source": [
    "# Sanity check to see if different lines were assigned correct indices \n",
    "for lineDef in lineDef_Indices_Expt.keys():\n",
    "    probeInd = lineDef_Indices_Expt[lineDef]\n",
    "    print ('... lineDef (Expt):', lineDef, '... probe index: ',probeInd, '...')\n",
    "    #print '... Probe names:\\n',expData.iloc[probeInd]['name1']"
   ]
  },
  {
   "cell_type": "code",
   "execution_count": 13,
   "metadata": {
    "collapsed": true
   },
   "outputs": [],
   "source": [
    "for lineDef in lineDef_Indices_Expt.keys():\n",
    "    probeInd = lineDef_Indices_Expt[lineDef]\n",
    "    plt.plot(expData.iloc[probeInd]['x'], expData.iloc[probeInd]['y'], '-*', label=lineDef)\n",
    "plotLabelEtc('x (Met Coord)','y (Met Coord)','.','lineDef.png')"
   ]
  },
  {
   "cell_type": "code",
   "execution_count": 14,
   "metadata": {},
   "outputs": [],
   "source": [
    "caseCount = 0\n",
    "#test_path_arr = {}\n",
    "probesU = {}\n",
    "probesUp = {}\n",
    "probesk = {}\n",
    "probesUax = {}\n",
    "probeInd = {}\n",
    "caseName = {}\n",
    "for sim in simList:\n",
    "    #print 'Case count: ', caseCount\n",
    "    case_name = 'ask_' + sim\n",
    "    #print 'case_name: ', case_name\n",
    "    caseName[caseCount] = case_name\n",
    "    test_des = os.path.join(case_name, 'masts')\n",
    "\n",
    "    #Determine the last step from DES results\n",
    "    #test_timeDirs = map(int,os.listdir(test_des)) # Note the integer mapping\n",
    "    test_timeDirs = os.listdir(test_des)\n",
    "    test_timeDirs.sort()\n",
    "    #print(test_timeDirs)\n",
    "    test_lastTime = test_timeDirs[-1]\n",
    "    #print 'Test results time dirs:\\n', test_timeDirs, '\\n Last time instant: ', test_lastTime, '\\n'\n",
    "\n",
    "    test_path = os.path.join(test_des, str(test_lastTime))\n",
    "    #print \"Test path: %s\"%(test_path)\n",
    "    #test_path_arr[caseCount] = test_path\n",
    "    #caseCount += 1\n",
    "    # Load DES results\n",
    "\n",
    "    if sim == 'kEps_rans_asl_coarseMesh':\n",
    "        probesU_test = readU(test_path, 'sensors_U.xy')\n",
    "        probesk_test = readkEpsRANS(test_path, 'sensors_k_p.xy')\n",
    "    else:\n",
    "        probesU_test = readU(test_path, 'sensors_UMean.xy')\n",
    "        probesk_test = readkOmega(test_path, 'sensors_kMean_pMean_omegaMean_nuSgsMean.xy')\n",
    "        if os.path.exists(os.path.join(test_path, 'sensors_UPrime2Mean.xy')):\n",
    "            probesUp_test = readUprime(test_path, 'sensors_UPrime2Mean.xy')\n",
    "            probesUp[caseCount] = probesUp_test\n",
    "            #print 'Test results, Up:\\n',probesUp_test\n",
    "    # Compute axial velocity from DES and results\n",
    "    #Uax_des_test = axialVel(probesU_test['U'], probesU_test['V'], sector)\n",
    "\n",
    "    #U[caseCount] = probesU_test['U'].tolist()\n",
    "    probesU[caseCount] = probesU_test\n",
    "    probesk[caseCount] = probesk_test\n",
    "    probesUax[caseCount] = pd.DataFrame({'x':probesU_test['x'],\\\n",
    "                                         'Uax': axialVel(probesU_test['U'], probesU_test['V'], sector)})\n",
    "    \n",
    "    if 'coarseMesh' in sim or 'betaStar' in sim:\n",
    "        probeInd[caseCount] = lineDef_Indices_coarseMesh\n",
    "    else:\n",
    "        probeInd[caseCount] = lineDef_Indices_fineMesh\n",
    "    caseCount += 1\n",
    "\n",
    "    #print 'Test results, U:\\n',probesU_test\n",
    "    \n",
    "    #print 'Test results, k:\\n',probesk_test\n",
    "    #print  'Uax_DES_test :\\n', Uax_des_test"
   ]
  },
  {
   "cell_type": "code",
   "execution_count": 15,
   "metadata": {
    "collapsed": true
   },
   "outputs": [],
   "source": [
    "#U = [probesU[i] for i in range(len(probesU))]\n",
    "#print 'U: ', U\n",
    "#print 'probesU: ', probesU\n",
    "#print 'probesUp: ', probesUp\n",
    "#print 'labelText', labelText\n",
    "#print 'len(probesU): ', len(probesU)\n",
    "#print 'len(labelText): ', len(labelText)\n",
    "#print 'probe indices:', probeIndices"
   ]
  },
  {
   "cell_type": "code",
   "execution_count": 16,
   "metadata": {},
   "outputs": [
    {
     "name": "stdout",
     "output_type": "stream",
     "text": [
      "plotSubDir: validation_all\n",
      "... lineDef: A\n",
      "... lineDef: AASW\n",
      "... lineDef: AANE\n",
      "... lineDef: B\n",
      "plotSubDir: validation_toPresent\n",
      "... lineDef: A\n",
      "... lineDef: AASW\n",
      "... lineDef: AANE\n",
      "... lineDef: B\n"
     ]
    }
   ],
   "source": [
    "for plotSubDir in plotSubDir_Indices.keys():\n",
    "    caseInd = plotSubDir_Indices[plotSubDir]\n",
    "    print ('plotSubDir:', plotSubDir)\n",
    "    for lineDef in lineDef_Indices_Expt.keys():\n",
    "        print ('... lineDef:', lineDef)\n",
    "        #plotVar(probesU,caseInd,probeInd,lineDef,'x','U','x(Met Coord)','Mean Ux (m/s)',plotSubDir,'line_'+lineDef+'_Ux.png')\n",
    "        #plotVar(probesU,caseInd,probeInd,lineDef,'x','V','x(Met Coord)','Mean Uy (m/s)',plotSubDir,'line_'+lineDef+'_Uy.png')\n",
    "        #plotVar(probesU,caseInd,probeInd,lineDef,'x','W','x(Met Coord)','Mean Uz (m/s)',plotSubDir,'line_'+lineDef+'_Uz.png')\n",
    "        #plotVar(probesk,caseInd,probeInd,lineDef,'x','p','x(Met Coord)','pMean (N/m^2)',plotSubDir,'line_'+lineDef+'_p.png')\n",
    "        plotVarExpt(probesUax,caseInd,probeInd,lineDef,'x', 'Uax', 'x(Met Coord)', 'Mean Uaxial (m/s)',plotSubDir,'line_'+lineDef+'_Uax.png', expData['x'], Uax)\n",
    "        if lineDef == 'B':\n",
    "            plotVar(probesk,caseInd,probeInd,lineDef,'x','k', 'x(Met Coord)', 'Mean TKE (m^2/s^2)',plotSubDir,'line_'+lineDef+'_k.png', True)\n",
    "        else:\n",
    "            plotVarExpt(probesk,caseInd,probeInd,lineDef,'x','k', 'x(Met Coord)', 'Mean TKE (m^2/s^2)',plotSubDir,'line_'+lineDef+'_k.png', expData['x'], expData['TKEstar']*TKE_ref, True)"
   ]
  },
  {
   "cell_type": "code",
   "execution_count": null,
   "metadata": {
    "collapsed": true
   },
   "outputs": [],
   "source": []
  }
 ],
 "metadata": {
  "kernelspec": {
   "display_name": "Python 3",
   "language": "python",
   "name": "python3"
  },
  "language_info": {
   "codemirror_mode": {
    "name": "ipython",
    "version": 3
   },
   "file_extension": ".py",
   "mimetype": "text/x-python",
   "name": "python",
   "nbconvert_exporter": "python",
   "pygments_lexer": "ipython3",
   "version": "3.6.3"
  }
 },
 "nbformat": 4,
 "nbformat_minor": 2
}
